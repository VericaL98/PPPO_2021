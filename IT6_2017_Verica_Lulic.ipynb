{
  "nbformat": 4,
  "nbformat_minor": 0,
  "metadata": {
    "colab": {
      "name": "IT6_2017_Verica_Lulic.ipynb",
      "provenance": [],
      "collapsed_sections": [],
      "include_colab_link": true
    },
    "kernelspec": {
      "display_name": "Python 3",
      "name": "python3"
    },
    "language_info": {
      "name": "python"
    },
    "accelerator": "GPU"
  },
  "cells": [
    {
      "cell_type": "markdown",
      "metadata": {
        "id": "view-in-github",
        "colab_type": "text"
      },
      "source": [
        "<a href=\"https://colab.research.google.com/github/VericaL98/PPPO_2021/blob/main/IT6_2017_Verica_Lulic.ipynb\" target=\"_parent\"><img src=\"https://colab.research.google.com/assets/colab-badge.svg\" alt=\"Open In Colab\"/></a>"
      ]
    },
    {
      "cell_type": "markdown",
      "metadata": {
        "id": "SiRoWJFy_822"
      },
      "source": [
        "**Sadržaj**\n",
        "\n",
        "1. Uvod \n",
        "2. Objašnjenje zadatka \n",
        "3. Objašnjenje algoritma za realizaciju zadatka \n",
        "4. Realizacija zadatka \n",
        "5. Zaključak \n",
        "6. Reference \n",
        "\n",
        "\n",
        "\n",
        "\n",
        "\n",
        "\n",
        "\n",
        "\n"
      ]
    },
    {
      "cell_type": "markdown",
      "metadata": {
        "id": "H289KW-qVe43"
      },
      "source": [
        "**Uvod**\n",
        "\n",
        "Klasifikacija je zadatak nadgledanog mašinskog učenja čiji je cilj predvidjeti klasne oznake novih instanci na osnovu ranijih opažanja. Znači, obučavamo model koristeći trening podatake i tako obučen model koristimo za predviđanje novih, do tada neviđenih podataka. Termin „nadgledano učenje“ odnosi se na skup trening primjera (ulaznih podataka) gdje su signali željenog izlaza (oznake) već poznati.\n",
        "\n",
        "Primjer klasifikacije sa kojim se susrećemo u svakodnevnom životu jeste sistem elektronske pošte koji ima mogućnost automatskog otkrivanja neželjenih poruka. To znači da sistem analizira sve dolazne poruke i označava ih kao spam ili ne-spam, čak i mi, kao krajnji korisnici, imamo mogućnost da ručno označimo poruke kao neželjene, kako bismo poboljšali sposobnost otkrivanja spam-a.\n",
        "\n",
        "Ovaj primjer klasifikacije spada u binarnu klasifikaciju jer postoje samo dvije klase 'spam' i 'nije spam', a pored nje imamo još tri vrste klasifikacije: 'Multi-Class' kada postoje više od dvije klase, 'Multi-Label' kada jedan objekat pripada jednoj ili više klasa i 'Unbalanced' kada je broj primjera u svakoj klasi nejednako raspoređen.\n",
        "\n",
        "Klasifikacija fotografija predstavlja dodjeljivanje najvjerovatnije kategorije kojoj pripada fotogafija iz nekog skupa fiksnih kategorija.\n",
        "\n",
        "Postoje dva tipa klasifikatora fotografija:\n",
        "\n",
        "1. prvi tip je klasifikacija pomoću karakteristika koje su uočene na fotografijama\n",
        "\n",
        "2. drugi tip je kada se duboka neuronska mreža obučava za klasifikovanje fotografija\n",
        "\n",
        "Klasifikacija fotografija sastoji se od dvije faze:\n",
        "\n",
        "1. treniranje-algoritmu za klasifikaciju se pružaju ulazi za koje je poznata oznaka klase i koristeći te ulaze obučava se model\n",
        "2. testiranje-kada je završen trening, naučeni model se koristi za predviđanje klasa novih, do tada neviđenih ulaza"
      ]
    },
    {
      "cell_type": "markdown",
      "metadata": {
        "id": "aC4gX-JKFIo7"
      },
      "source": [
        "**Objašnjenje zadatka**\n",
        "\n",
        "Osnovna ideja zadatka jeste da se na osnovu različitih fotografija pasa kreira model koji će da ih klasifikuje na osnovu toga kojoj rasi pripadaju.\n",
        "\n",
        "Dataset sadrži:\n",
        "1. test folder koji zapravo predstavlja skup podataka za testiranje \n",
        "2. train folder koji predstavlja skup podataka za trening \n",
        "3. labels.csv fajl (u njemu se nalaze kolone id koji predstavlja jedinstvenu oznaku za svaku fotografiju i breed koji predstavlja naziv rase)\n",
        "4. sample_submission.csv (primjer kako treba da izgleda format fajla koji će se dobiti kao rješenje zadatka)\n",
        "\n"
      ]
    },
    {
      "cell_type": "markdown",
      "metadata": {
        "id": "uWffp46xn_pm"
      },
      "source": [
        "**Objašnjene algoritma za realizaciju zadatka**\n",
        "\n",
        "Za realizaciju zadatka je korišćen SGD (Stochastic gradient descent) algoritam.\n",
        "\n",
        "**Gradijentni spust**\n",
        "\n",
        "\n",
        "* Iterativni metod za minimizaciju funkcije \n",
        "* U svakom iteraciji se mijenjaju težine, tako da se funkcija cijene smanjuje \n",
        "* Gradijent je vektor u smjeru u kojem funkcija najbrže raste \n",
        " - Elementi gradijenta su parcijalni izvodi funkcije cijene po težinama mreže \n",
        " - Treba da se krećemo u smjeru negativnog gradijenta \n",
        "\n",
        "**Stohastički gradijentni spust**\n",
        "\n",
        "* Vrijednost funkcije cijene na trening skupu je srednja vrijednost funkcija cijene za pojedine uzorke \n",
        "* Vrijednost gradijenta na trening skupu je srednja vrijednost vrijednosti gradijenata za pojedine uzorke \n",
        " - Dugo izračunavanje - sporo obučavanje \n",
        "* Aproksimacija vrijednosti gradijenta na podskupu trening uzoraka - mini-batch \n",
        " - Biraju se slučajno \n",
        " - Nakon svakog mini-batcha se ažuriraju vrijednosti težina \n",
        " - Ponavlja se sve dok se ne iscrpe svi trening uzorci - epoha obučavanja \n",
        " -Ubrzava obučavanje \n",
        "\n",
        "\n",
        "Jedna od izrazitih prednosti korišćenja Stochastic Gradient Descent-a je ta što proračune obavlja brže od gradient descent-a i  batch gradient descent-a. Takođe, na masovnim skupovima podataka, stochastic gradient descent može brže da konvergira jer češće vrši ažuriranja. \n",
        "\n"
      ]
    },
    {
      "cell_type": "markdown",
      "metadata": {
        "id": "LcFzK1o-Tk7h"
      },
      "source": [
        "**Realizacija zadatka**\n",
        "\n",
        "Na samom početku, importovane su sve biblioteke koje će biti potrebne za realizaciju projekta.\n",
        "\n",
        "\n",
        "* NumPy (Numerical Python) je Pajtonova biblioteka otvorenog koda koja predstavlja univerzalni standard za rad sa numeričkim podacima u Pajtonu. Biblioteka sadrži višedimenzionalne nizove podataka i matrice i omogućava izvođenje matematičkih operacija nad njima. NumPy garantuje efikasne proračune i isporučuje ogromnu biblioteku matematičkih funkcija na visokom nivou.\n",
        "\n",
        "\n",
        "* Pandas je biblioteka napisana za Pajton kako bi omogućila manipulaciju podacima i analizu istih. Pandas omogućava importovanje podataka u različitim formatima kao što su CSV, JSON, SQL, Excel. Takođe, omogućava i različite manipulacije podacima kao što su spajanje, selektovanje, promjena oblika, čišćenje podataka.\n",
        "\n",
        "\n",
        "\n",
        "*  OS modul u Pajtonu pruža funkcije za interakciju sa operativnim sistemom. OS spada u standardne pomoćne module Pajtona. Funkcije koje pruža OS modul nam omogućavaju da radimo nad osnovnim zadacima operativnog sistema, bez obzira na to da li se radi o Windows platformi, Macintosh ili Linux.\n",
        "\n",
        "\n",
        "\n",
        "\n"
      ]
    },
    {
      "cell_type": "code",
      "metadata": {
        "id": "B3bO8zAWV8F8"
      },
      "source": [
        "\n",
        "import numpy as np \n",
        "import pandas as pd \n",
        "\n",
        "import os"
      ],
      "execution_count": null,
      "outputs": []
    },
    {
      "cell_type": "markdown",
      "metadata": {
        "id": "YGFeTTS1XnpK"
      },
      "source": [
        "\n",
        "\n",
        "* matplotlib.pyplot je skup funkcija komandnog stila koje čine da matplotlib radi poput MATLABA. Svaka pyplot funkcija vrši neku promjenu figure: npr. kreira figuru, stvara površinu za iscrtavanje na figuri, iscrtava neke linije na površini za iscrtavanje, ukrašava grafikon oznakama...\n",
        "\n",
        "\n",
        "* Image modul pruža klasu sa istim imenom koja se koristi za predstavljanje PIL slike. Modul takođe pruža niz fabričkih funkcija, uključujući funkcije za učitavanje slika iz datoteka i za kreiranje novih slika\n",
        "\n",
        "\n",
        "* Kreiranje PyTorch Dataset-a i upravljanje njime pomoću DataLoader-a održava vaše podatke upravljivim odnosno lakšim za rukovanje i pomaže da se pojednostavi proces mašinskog učenja. Dataset skladišti sve vaše podatke, a DataLoader pomaže da se iterira kroz podatke, služi za transformaciju podataka i još mnogo toga\n",
        "\n",
        "\n",
        "\n",
        "* Podpaket modela sadrži definicije modela za rješavanje različitih zadataka, uključujući: klasifikaciju slike, semantičku segmentaciju po pikselima, detekciju objekata, segmentaciju instance, detekciju ključne tačke osobe i video klasifikaciju\n",
        "\n",
        "\n",
        "* PyTorch pruža modul torch.nn koji nam pomaže u stvaranju i obučavanju neuronske mreže \n",
        "\n",
        "\n",
        "* TorchVision, PyTorch-ov computer vision paket ima jednostavan API za predobradu slike u svom torchvision.transforms modulu. Transformacije su uobičajene transformacije slike. Mogu se povezati zajedno pomoću Compose. Većina klasa transformacija ima ekvivalentnu funkciju: funkcionalne transformacije daju kontrolu nad transformacijama, što je korisno ako se mora izgraditi složeniji tok transformacije \n",
        "\n",
        "\n",
        "\n",
        "* torch.optim je paket koji implementira različite algoritme optimizacije \n",
        "\n",
        "\n",
        "\n",
        "\n",
        "\n",
        "\n",
        "\n",
        "\n",
        "\n",
        "\n",
        "\n",
        "\n",
        "\n",
        "\n",
        "\n"
      ]
    },
    {
      "cell_type": "code",
      "metadata": {
        "id": "jrzj1Iq8WE87"
      },
      "source": [
        "\n",
        "import matplotlib.pyplot as plt\n",
        "from PIL import Image\n",
        "import torch\n",
        "from torch.utils.data import Dataset, DataLoader, SubsetRandomSampler\n",
        "import torchvision.models as models\n",
        "import torch.nn as nn\n",
        "import torchvision.transforms as transforms\n",
        "import torch.optim as optim"
      ],
      "execution_count": null,
      "outputs": []
    },
    {
      "cell_type": "markdown",
      "metadata": {
        "id": "rvLRh2-uObRs"
      },
      "source": [
        "class CreateDataset(Dataset): Na ovaj način kreiramo klasu koja se naziva CreateDataset koja može biti pozvana kad god to želimo. U ovu klasu se prosljeđuje skup podataka koji ćemo da importujemo.\n",
        "\n",
        "Prilagođena klasa skupa podataka mora implementirati tri funkcije: __init__, __len__ i __getitem__. \n",
        "\n",
        "def __init__(self, img_dir, dataframe, transform=None): Kada se inicijalizuje klasa, importuju se promjenljive. U ovom slučaju, promjenljive se nazivaju img_dir i dataframe kako bi odgovarale podacima koji će biti dodati. Takođe, u većini primjera se vidi da je transform=None u __init__() i ovo se koristi kako bi se primjenila torchvision transforms na vaše podatke/sliku.\n",
        "\n",
        "self.labels_frame = dataframe, self.img_dir = img_dir, self.transform = transform: Na ovaj način se sada ove promljenljive mogu koristiti u funkcijama unutar klase\n",
        "\n",
        "def __len__(self): Ova funkcija samo vraća dužinu od labels_frame kada se pozove. Npr. ako bismo imali skup podataka koji sadrži 5 labels_frame, onda bi se vratio cijeli broj 5.\n",
        "\n",
        "def __getitem__(self, idx): Ova funkcija koristi PyTorch-ov Dataset modul za dobijanje uzorka i za konstruisanje skupa podataka. Kada se inicijalizuje, on će proći kroz ovu funkciju stvarajući uzorak iz svake instance u skupu podataka. \n",
        "\n",
        "Idx koji predstavlja drugi parametar funkcije, ovaj broj je zapravo instanca podataka kroz koju će skup podataka prolaziti. Mi koristimo prethodno pomenute promjenljive self.labels_frame i self.img_dir sa proslijeđenom promjenljivom idx kako bismo dobili trenutnu instancu podataka. \n",
        "\n",
        "Img_name promjenljiva predstavlja id koji je zapravo jedinstvena oznaka za svaku fotografiju sa ekstenzijom jpg. Image promjenljiva će da vrati tu sliku koja odgovara tom id-iju, a label promjenljiva vraća naziv rase za taj id slike i tu sliku. Na taj način se kreira dataset i ova funkcija vraća sliku i naziv rase koja odgovara toj slici."
      ]
    },
    {
      "cell_type": "code",
      "metadata": {
        "id": "h7926X8vWOVI"
      },
      "source": [
        "class CreateDataset(Dataset):\n",
        "    \n",
        "    def __init__(self, img_dir, dataframe, transform=None):\n",
        "        self.labels_frame = dataframe\n",
        "        self.img_dir = img_dir\n",
        "        self.transform = transform\n",
        "        \n",
        "    def __len__(self):\n",
        "        return len(self.labels_frame)\n",
        "    \n",
        "    def __getitem__(self, idx):\n",
        "        img_name = os.path.join(self.img_dir, self.labels_frame.id[idx]) + \".jpg\"\n",
        "        image = Image.open(img_name)\n",
        "        label = self.labels_frame.target[idx]\n",
        "        \n",
        "        if self.transform:\n",
        "            image = self.transform(image)\n",
        "        \n",
        "        return [image, label]\n",
        "    \n",
        "\n"
      ],
      "execution_count": null,
      "outputs": []
    },
    {
      "cell_type": "markdown",
      "metadata": {
        "id": "w23e10-ZhBiV"
      },
      "source": [
        "Sljedeći korak jeste povezivanje Google Colab-a sa Google Drive-om kako bi se omogućilo importovanje fajlova koji su dobijeni u sklopu projektnog zadatka."
      ]
    },
    {
      "cell_type": "code",
      "metadata": {
        "colab": {
          "base_uri": "https://localhost:8080/"
        },
        "id": "e4QD1rSWMU7n",
        "outputId": "934211ee-aab3-4cde-83b6-9969c6319565"
      },
      "source": [
        "from google.colab import drive\n",
        "drive.mount('/content/drive')"
      ],
      "execution_count": null,
      "outputs": [
        {
          "output_type": "stream",
          "name": "stdout",
          "text": [
            "Mounted at /content/drive\n"
          ]
        }
      ]
    },
    {
      "cell_type": "code",
      "metadata": {
        "colab": {
          "base_uri": "https://localhost:8080/"
        },
        "id": "y9UEp6PARIXz",
        "outputId": "1eb6dc49-551d-45d8-8c49-8ca83a5b1fb1"
      },
      "source": [
        "# After executing the cell above, Drive\n",
        "# files will be present in \"/content/drive/My Drive\".\n",
        "!ls \"/content/drive/My Drive\""
      ],
      "execution_count": null,
      "outputs": [
        {
          "output_type": "stream",
          "name": "stdout",
          "text": [
            " apdevExamples1.zip\n",
            " apdevFlightsWs.zip\n",
            "'Apr 9, 09.18sonja rsubp3_prvidio.mp3'\n",
            "'Apr 9, 10.01rsubp3_drugiDio.mp3'\n",
            " bpmn\n",
            "'Colab Notebooks'\n",
            " DataWeave.zip\n",
            " LulicVerica_080220_BHM_8060_01_KljucPosete76049.PDF.gdoc\n",
            "'Nov 12, 10.30sonja-predavanje 5.mp3'\n",
            "'Nov 5, 10.31sonja-predavanje 4.mp3'\n",
            "'Oct 15, 10.31sonja-predavanje 1.1.mp3'\n",
            "'Oct 15, 11.29sonja-predavanje 1.2.mp3'\n",
            "'Oct 29, 10.31sonja-predavanje 3.mp3'\n",
            " PEKARA-Verica-Lulic-IT6-2017.zip\n",
            "'Processing records.zip'\n",
            " projektovanje.gdoc\n",
            " slika\n",
            " training4AmericanWs.zip\n",
            " TriggeringFlows.zip\n",
            "'Untitled Diagram (10).drawio'\n",
            "'Untitled Diagram (1).drawio'\n",
            "'Untitled Diagram (2).drawio'\n",
            "'Untitled Diagram (3).drawio'\n",
            "'Untitled Diagram (4).drawio'\n",
            "'Untitled Diagram (5).drawio'\n",
            "'Untitled Diagram (6).drawio'\n",
            "'Untitled Diagram (7).drawio'\n",
            "'Untitled Diagram (8).drawio'\n",
            "'Untitled Diagram (9).drawio'\n",
            "'Untitled Diagram.drawio'\n",
            "'upravljanje odnosima sa korisnicima'\n",
            " UseCase-Taksi_prevoz.drawio\n"
          ]
        }
      ]
    },
    {
      "cell_type": "markdown",
      "metadata": {
        "id": "orOMNLdJr_wg"
      },
      "source": [
        "Ovdje prvo učitavamo csv fajlove, labels.csv i sample_submission.csv.\n",
        "\n",
        "DataFrame je dvodimenzionalna struktura podataka koja omogućava smještanje prethodno dobijenih podataka u kolone i test_frame će da sadrži 10357 redova i jednu kolonu koja predstavlja id, odnosno jedinstvenu oznaku za svaku fotografiju.\n",
        "\n",
        "Submission_file sadrži 10357 redova i 121 kolonu, od kojih prva kolona predstavlja id, a ostale kolone su nazivi rasa pasa.\n",
        "\n",
        "Funkcija range() vraća niz brojeva koji počinju od 0 po defaultu i povećavaju se za jedan po defaultu i zaustavlja se prije navedenog broja, pa tako code = range(len(label_names)) vraća range(0, 10357). \n",
        "\n",
        "Dict() funkcija kreira rječnik. Rječnik je kolekcija koja je neuređena, promjenljiva i indeksirana.\n",
        "\n",
        "Zip() funkcija vraća zip objekat koji je iterator torki, gdje se prva stavka u svakom proslijeđenom iteratoru upariva zajedno, zatim se druga stavka u svakom proslijeđenom iteratoru upariva zajedno itd.\n",
        "Ako proslijeđeni iteratori imaju različite dužine, iterator sa najmanje stavki odlučuje o dužini novog iteratora.\n",
        "\n",
        "Transformacije su uobičajene transformacije slike. Mogu se povezati zajedno pomoću Compose. \n",
        "\n",
        "Kao što sam već rekla, dataset sadrži train folder koji predstavlja skup podataka za trening i test folder koji predstavlja skup podataka za testiranje.\n",
        "\n",
        " I u nastavku, samo se kreiraju dva dataset-a, jednom se prosljeđuje skup podataka za trening, a drugom skup podataka za testiranje. \n",
        "\n",
        "\n"
      ]
    },
    {
      "cell_type": "code",
      "metadata": {
        "colab": {
          "base_uri": "https://localhost:8080/",
          "height": 303
        },
        "id": "361IOO8fRu7B",
        "outputId": "bf51dd6f-c8fc-4883-a76f-dd69c110d070"
      },
      "source": [
        "# Read labels file\n",
        "dataframe = pd.read_csv('/content/drive/My Drive/Colab Notebooks/#6/labels.csv')\n",
        "\n",
        "label_names = pd.read_csv('/content/drive/My Drive/Colab Notebooks/#6/sample_submission.csv')\n",
        "\n",
        "test_frame = pd.DataFrame(data=label_names['id'])\n",
        "test_frame['target'] = label_names['id']\n",
        "\n",
        "labels = dataframe['breed']\n",
        "\n",
        "submission_file = pd.DataFrame(index=label_names.index, columns=label_names.keys())\n",
        "submission_file['id'] = label_names['id']\n",
        "\n",
        "label_names.drop(['id'], axis=1, inplace=True)\n",
        "\n",
        "code = range(len(label_names))\n",
        "\n",
        "breed_to_code = dict(zip(label_names, code))\n",
        "\n",
        "code_to_breed = dict(zip(code, label_names))\n",
        "\n",
        "dataframe['target'] =  [breed_to_code[x] for x in dataframe.breed]\n",
        "train_dir = '/content/drive/My Drive/Colab Notebooks/#6/train'\n",
        "test_dir = '/content/drive/My Drive/Colab Notebooks/#6/test'\n",
        "\n",
        "train_transform = transforms.Compose([transforms.Resize((256,256)),\n",
        "                                      transforms.CenterCrop(224),\n",
        "                                transforms.RandomHorizontalFlip(),\n",
        "                                transforms.RandomRotation(5),\n",
        "                                        transforms.ToTensor(),\n",
        "                                         transforms.Normalize(mean=[0.485, 0.456, 0.406],\n",
        "                                 std=[0.229, 0.224, 0.225])])\n",
        "\n",
        "train_data = CreateDataset(train_dir, dataframe, train_transform)\n",
        "\n",
        "test_transform = transforms.Compose([transforms.Resize((256,256)),\n",
        "                                    transforms.CenterCrop(224),\n",
        "                                    transforms.ToTensor(),\n",
        "                                    transforms.Normalize(mean=[0.485, 0.456, 0.406],\n",
        "                                                         std=[0.229, 0.224, 0.225])])\n",
        "\n",
        "test_data = CreateDataset(test_dir, test_frame, test_transform)\n",
        "\n",
        "plt.imshow(train_data[10][0][0])\n",
        "print(code_to_breed[train_data[10][1]])\n",
        "\n",
        "print(train_data[11][1]) \n",
        "\n",
        "\n"
      ],
      "execution_count": null,
      "outputs": [
        {
          "output_type": "stream",
          "name": "stdout",
          "text": [
            "shetland_sheepdog\n",
            "113\n"
          ]
        },
        {
          "output_type": "display_data",
          "data": {
            "image/png": "[encoded data removed]",
            "text/plain": [
              "<Figure size 432x288 with 1 Axes>"
            ]
          },
          "metadata": {
            "needs_background": "light"
          }
        }
      ]
    },
    {
      "cell_type": "markdown",
      "metadata": {
        "id": "U_weq7aiHLQ-"
      },
      "source": [
        "Batch size definiše broj uzoraka koji će se širiti kroz mrežu.\n",
        "Na primjer, recimo da imamo 1050 uzoraka za obuku odnosno trening i želimo da podesimo veličinu batch_size = 100. Algoritam uzima prvih 100 uzoraka (od 1 do 100) iz skupa podataka za trening i obučava mrežu. Zatim, uzima drugih 100 uzoraka (od 101 do 200) i ponovo obučava mrežu. Ovu proceduru možemo nastaviti sve dok ne proširimo sve uzorke kroz mrežu. U našem primjeru batch_size je podešen na 64.\n",
        "\n",
        "Kada je num_workers > 0, samo će ovi workers-i obuhvatiti podatke, glavni proces neće. Kada je num_workers = 2, tada imamo najviše 2 workers-a koji istovremeno stavljaju podatke u RAM, a ne 3. Mi smo ovdje stavili da je num_workers = 0 i to je broj tredova za trening, dakle nećemo imati nikakav paralelizam. \n",
        "\n",
        "Takođe, uzela sam 20% podataka za validaciju i 80% podataka za trening.\n",
        "\n",
        "Ovdje se takođe koristi SubsetRandomSampler kako bi se skup podataka podijelio na podskupove za trening, validaciju i testiranje. \n",
        "\n",
        "Za učitavanje podataka u PyTorch-u se koristi klasa torch.utils.data.DataLoader. \n",
        "\n",
        "**Argumenti konstruktora DataLoader-a su:**\n",
        "\n",
        "DataLoader(dataset, batch_size=1, shuffle=False, sampler=None,\n",
        "           batch_sampler=None, num_workers=0, collate_fn=None,\n",
        "           pin_memory=False, drop_last=False, timeout=0,\n",
        "           worker_init_fn=None, *, prefetch_factor=2,\n",
        "           persistent_workers=False)"
      ]
    },
    {
      "cell_type": "code",
      "metadata": {
        "id": "9nw_x14yejv5"
      },
      "source": [
        "# Specify data loaders\n",
        "\n",
        "batch_size = 64\n",
        "num_workers = 0\n",
        "    \n",
        "# obtain training indices that will be used for validation\n",
        "valid_size = 0.2\n",
        "num_train = len(train_data)\n",
        "indices = list(range(num_train))\n",
        "np.random.shuffle(indices)\n",
        "split = int(np.floor(valid_size * num_train))\n",
        "\n",
        "split01 = int(np.floor(0.1 * num_train))\n",
        "train_idx, valid_idx, test_idx = indices[split:], indices[:split01], indices[split01:split]\n",
        "\n",
        "# define samplers for obtaining training and validation batches\n",
        "train_sampler = SubsetRandomSampler(train_idx)\n",
        "valid_sampler = SubsetRandomSampler(valid_idx)\n",
        "test_sampler = SubsetRandomSampler(test_idx)\n",
        "\n",
        "train_loader = DataLoader(train_data, batch_size=batch_size, sampler=train_sampler, num_workers=num_workers)\n",
        "test_loader = DataLoader(train_data, batch_size=batch_size, sampler=test_sampler, num_workers=num_workers)\n",
        "valid_loader = DataLoader(train_data, batch_size=batch_size, sampler=valid_sampler, num_workers=num_workers)\n",
        "loaders_transfer = {'train':train_loader,'test':test_loader,'valid':valid_loader}"
      ],
      "execution_count": null,
      "outputs": []
    },
    {
      "cell_type": "markdown",
      "metadata": {
        "id": "o5QaIKc0qhnJ"
      },
      "source": [
        "Torch.cuda - Ovaj paket dodaje podršku za tipove CUDA tenzora, koji implementiraju istu funkcionalnost baš kao i CPU tenzori, ali za računanje koriste GPUs.\n",
        "Takođe, koristi se torch.cuda.is_available() kako biste provjerili da li vaš sistem podržava CUDA.\n",
        "\n",
        "Sada se  koristi tzv. transfer learning i u nastavku će biti objašnjeno šta to zapravo znači.\n",
        "Što više različitih problema rješavamo, to smo bolji u prenošenju tog znanja za rješavanje novog problema. I sad se pitamo šta ako postoji način da se ista tehnika primjeni za rješavanje problema klasifikacije, regresije ili grupisanja. Transfer learning je tehnika pomoću koje možemo da koristimo model weights koje su obučene na standardnim skupovima podataka kao što su ImageNet kako bismo poboljšali efikasnost našeg zadatka. \n",
        "\n",
        "Potrebno je da specificiramo arhitekturu koju ćemo koristiti i to je VGG arhitektura. Postoje dva modela koja su dostupna u VGG, a to je VGG-16 i VGG-19. Ovdje se u zadatku koristi VGG-16. VGG-16 ima tri layer-a: Convolution layer, Pooling layer i Fully Connected. \n",
        "\n",
        "for param in model_transfer.features.parameters(): I sad ovdje kaže, kroz taj model prođi kroz sve njegove parametre, a parametri su weights i biases.\n",
        "\n",
        "param.requires_grad = False – U pytorchu ima ovaj atribut requires_grad i to znači da svaki put kada se radi back propagation da mi računa one parcijalne izvode i ja ovdje kažem ne računaj, znači zamrzni sve parametre, nemoj ih update-ovati, ne diraj ih i poslije ću samo da dodam svoj layer koji ću ja da treniram.\n",
        "U suštini, to mi samo kaže da uzimam neki model koji je već istreniran i njega ja neću mijenjati, ostaviću ga takav kakav je i samo ću na njega da dodam nešto svoje i to svoje ću da treniram i to je taj transfer learning. U suštini, ovo je najvažnije. Treba da uzmem model, freezujem ga i onda poslije samo mogu da ga dotreniram.\n",
        "\n",
        "if use_cuda:\n",
        "    model_transfer = model_transfer.cuda() - Ovo je sad isto za grafičku, ako ima cuda jezgra, stavi taj model na cuda da može da ga trenira.\n",
        "\n",
        "criterion_transfer = torch.nn.CrossEntropyLoss() - Ovdje zapravo ja radim back propagation na toj loss funkciji, najprostije mi je da uzmem nešto što je moja predikcija i ono što je stvarno (ono što imam u podacima), da oduzmem i stavim na kvadrat. \n",
        "\n",
        "I sad se postavlja pitanje šta radi ovaj loss? To što ja dobijem na kraju, treba da mi bude što manje, znači želim da mi funkcija greške bude što manja. Kada dobijem rezultat te funkcije, uradim back propagation, promijene se određene vrijednosti i sljedeći put kad budem opet računala tu funkciju, ona treba da mi bude manja. \n",
        "\n",
        "Na kraju, samo specificiramo da se koristi SGD odnosno Stochastic gradient descent algoritam. \n"
      ]
    },
    {
      "cell_type": "code",
      "metadata": {
        "id": "atxk4HPdetPC"
      },
      "source": [
        "# check if CUDA is available\n",
        "use_cuda = torch.cuda.is_available()\n",
        "\n",
        "# Specify model architecture \n",
        "model_transfer = models.vgg16(pretrained=True)\n",
        "\n",
        "# Freeze training for all \"features\" layers\n",
        "for param in model_transfer.features.parameters():\n",
        "    param.requires_grad = False\n",
        "    \n",
        "model_transfer.classifier[6] = torch.nn.Linear(model_transfer.classifier[6].in_features,120)\n",
        "\n",
        "if use_cuda:\n",
        "    model_transfer = model_transfer.cuda()\n",
        "    \n",
        "criterion_transfer = torch.nn.CrossEntropyLoss()\n",
        "optimizer_transfer = optim.SGD(model_transfer.classifier.parameters(),lr=0.001)"
      ],
      "execution_count": null,
      "outputs": []
    },
    {
      "cell_type": "markdown",
      "metadata": {
        "id": "i-zaNlkW6p-f"
      },
      "source": [
        "**for batch_idx, (data, target) in enumerate(loaders['train']):** - Ovo loaders od train je onaj gore train loader koji sam pravila, on će mi odmah učitati koliko sam ja stavila batch size, odmah će mi tu biti 64 podatka. \n",
        "\n",
        "**if use_cuda:**\n",
        "                **data, target = data.cuda(), target.cuda()** – Ovo isto, ako imaš cuda, stavi na cuda. \n",
        "\n",
        "**optimizer.zero_grad()** – Ovo znači postavi da su vrijednosti gradijenata 0 \n",
        "\n",
        "**optimizer.step()** – Ovo kad kažem on će da mi pokrene SGD algoritam \n",
        "\n",
        "Prvo imam for batch_idx, (data, target) in enumerate(loaders['train']): i ja dam loaders[train] batch_size 64 i ovdje se prolazi kroz 64 podatka da bi se update-ovali gradijenti. \n",
        "\n",
        " **output** **= model(data)** - Kada uradim ovo, ja u ovoj liniji uradim forward pass. To znači da će moj model da prođe kroz sve layere (VGG16 ima 16 slojeva). Ovaj koji ja treniram je samo jedan linearni sloj. Ja kada ovo uradim (output = model(data)), svi ovi podaci će da prođu kroz sve ove slojeve i ja ću na kraju da dobijem neki rezultat u smislu (ulaz mi je slika, a izlaz će da bude kojoj rasi psa pripada). \n",
        "\n",
        " **loss = criterion(output,target)** - Ovdje je sada potrebno izračunati loss funkciju. Output će da mi bude ono što sam ja dobila (recimo rasa 13), a target je šta je zapravo u tom primjeru (koja rasa je bila). U suštini, target je neka tačna informacija, a output je moja predikcija. I sad ja računam koliko sam pogriješila, odnosno grešku i taj loss je zapravo ta funkcija greške (CrossEntropyLoss). U suštini, svaki loss uzima predikciju (odnosno šta ja mislim da je) i zaista šta je i na osnovu ta dva podatka se razlikuju lossovi. Cilj je da se minimizuje taj loss. I bilo koju funkciju koju želim da minimizujem, ja tražim prvi izvod te funkcije. \n",
        "\n",
        "Ja kada izračunam loss, poslije toga pozivam  loss.backward() da bih izračunala te gradijente, a sa   optimizer.step() ću da promijenim one weightove i biases. Cilj mi je da samo naštimam te weightove i biases tako da kada podaci prođu kroz moju mrežu da dobijem tačan izlaz. \n",
        "\n",
        "Batch_size ima 64 podatka i ja ću tek kad prođem kroz sva 64 podatka da izračunam gradijente, a sve dok prolazim jedan po jedan u tih 64 ti gradijenti se akumuliraju (znači samo se nadodaju) i onda će se podijeliti sa 64.\n",
        "\n",
        "  for epoch in range(1, n_epochs+1): I sad sam ja mogla da imam ovo, bez ovog batch-a, ali pošto loss.backward() i optimizer.step() zahtijevaju vrijeme, odnosno dosta računanja i ja kada bih za svaki podatak to računala, trajalo bi dosta duže. Zbog toga se koristi ovaj batch, da za svaka 64 podatka računam gradijente.\n",
        "\n",
        "A evaluacija mi je bukvalno sve isto, samo što vidim da kada izračunam taj loss, samo ispisujem, ne update-ujem one parametre (znači ne radim računanje gradijenata i update-ovanje parametara). U evaluaciji samo kada izračunam loss, ispisujem ga. Znači i bez ovog dijela koda, on će da trenira i sve će da radi, samo meni ovo služi da vidim sada ako je moj model dobar na treningu (stalno će da mi se smanjuje trening loss), ali mi se recimo ne smanjuje validacioni loss. To znači da mi je model prilagođen samo za trening podatke (jer validacioni loss koristi podatke loaders od valid i to je 20% koje smo uzeli). Ja sam uzela 80% podataka za trening i 20% podataka za validaciju. Ja dok treniram, treniram nad tih 80% podataka, a nad ovih 20% gledam kolika će mi biti greška, odnosno da li se smanjuje greška i nad tim podacima koji nisu samo trening, nego su neki novi podaci koje neuronska mreža prvi put vidi (kao da li će i njih dobro da prediktuje).\n",
        "\n",
        "if valid_loss <= valid_loss_min: - Ovdje samo kaže da ako je taj validacioni loss manji od minimuma, sačuvaj model da kasnije taj model mogu da učitam i onda da ga evaluiram, odnosno testiram. \n"
      ]
    },
    {
      "cell_type": "code",
      "metadata": {
        "id": "h9dOk5Ibe_IM"
      },
      "source": [
        "def train(n_epochs, loaders, model, optimizer, criterion, use_cuda, save_path):\n",
        "    \"\"\"returns trained model\"\"\"\n",
        "    # initialize tracker for minimum validation loss\n",
        "    valid_loss_min = np.Inf \n",
        "    \n",
        "    for epoch in range(1, n_epochs+1):\n",
        "        # initialize variables to monitor training and validation loss\n",
        "        train_loss = 0.0\n",
        "        valid_loss = 0.0\n",
        "        \n",
        "        ###################\n",
        "        # train the model #\n",
        "        ###################\n",
        "        model.train()\n",
        "        for batch_idx, (data, target) in enumerate(loaders['train']):\n",
        "            # move to GPU\n",
        "            if use_cuda:\n",
        "                data, target = data.cuda(), target.cuda()\n",
        "            ## find the loss and update the model parameters accordingly\n",
        "            ## record the average training loss, using something like\n",
        "            ## train_loss = train_loss + ((1 / (batch_idx + 1)) * (loss.data - train_loss))\n",
        "            optimizer.zero_grad()\n",
        "            output = model(data)\n",
        "            loss = criterion(output,target)\n",
        "            \n",
        "            loss.backward()\n",
        "            optimizer.step()\n",
        "            train_loss += ((1 / (batch_idx + 1)) * (loss.data - train_loss))\n",
        "        ######################    \n",
        "        # validate the model #\n",
        "        ######################\n",
        "        model.eval()\n",
        "        for batch_idx, (data, target) in enumerate(loaders['valid']):\n",
        "            # move to GPU\n",
        "            if use_cuda:\n",
        "                data, target = data.cuda(), target.cuda()\n",
        "            ## update the average validation loss\n",
        "            output = model(data)\n",
        "            loss = criterion(output,target)\n",
        "            valid_loss += ((1 / (batch_idx + 1)) * (loss.data - valid_loss))\n",
        "\n",
        "        \n",
        "        # print training/validation statistics \n",
        "        print('Epoch: {} \\tTraining Loss: {:.6f} \\tValidation Loss: {:.6f}'.format(\n",
        "            epoch, \n",
        "            train_loss,\n",
        "            valid_loss\n",
        "            ))\n",
        "        \n",
        "        ## Save the model if validation loss has decreased\n",
        "        # if valid_loss <= valid_loss_min:\n",
        "        #     print('Validation loss decreased ({:.6f} --> {:.6f}). Saving model...'.format(\n",
        "        #     valid_loss_min,valid_loss))\n",
        "        #     torch.save(model.state_dict(),save_path)\n",
        "        #     valid_loss_min = valid_loss\n",
        "    # return trained model\n",
        "    return model"
      ],
      "execution_count": null,
      "outputs": []
    },
    {
      "cell_type": "markdown",
      "metadata": {
        "id": "-LzVLHkrrgMi"
      },
      "source": [
        "Ovdje se samo model trenira. Cilj je da se training loss i validation loss sve više smanjuju.\n"
      ]
    },
    {
      "cell_type": "code",
      "metadata": {
        "colab": {
          "base_uri": "https://localhost:8080/"
        },
        "id": "iAM_knZyldGa",
        "outputId": "bb34e3c1-e65b-476a-d5b0-c84e389ec360"
      },
      "source": [
        "# train the model\n",
        "\n",
        "n_epochs = 10\n",
        "\n",
        "model_transfer = train(n_epochs, loaders_transfer, model_transfer, optimizer_transfer, criterion_transfer, use_cuda,'/content/drive/My Drive/Colab Notebooks/#6/model_transfer.pt')"
      ],
      "execution_count": null,
      "outputs": [
        {
          "output_type": "stream",
          "name": "stdout",
          "text": [
            "Epoch: 1 \tTraining Loss: 4.537982 \tValidation Loss: 4.008375\n",
            "Epoch: 2 \tTraining Loss: 3.655836 \tValidation Loss: 3.077594\n",
            "Epoch: 3 \tTraining Loss: 2.736658 \tValidation Loss: 2.137884\n",
            "Epoch: 4 \tTraining Loss: 1.966717 \tValidation Loss: 1.487164\n",
            "Epoch: 5 \tTraining Loss: 1.533588 \tValidation Loss: 1.155198\n",
            "Epoch: 6 \tTraining Loss: 1.301827 \tValidation Loss: 0.963750\n",
            "Epoch: 7 \tTraining Loss: 1.142924 \tValidation Loss: 0.868544\n",
            "Epoch: 8 \tTraining Loss: 1.044054 \tValidation Loss: 0.816109\n",
            "Epoch: 9 \tTraining Loss: 0.966390 \tValidation Loss: 0.761606\n",
            "Epoch: 10 \tTraining Loss: 0.917965 \tValidation Loss: 0.730793\n"
          ]
        }
      ]
    },
    {
      "cell_type": "code",
      "metadata": {
        "id": "LdVXZU1DoJ5M"
      },
      "source": [
        "def test(loaders, model, submission, use_cuda):\n",
        "    correct = 0\n",
        "    total = 0\n",
        "\n",
        "    model.eval()\n",
        "\n",
        "    with torch.no_grad():\n",
        "      for data, target in loaders['test']:\n",
        "          # move to GPU\n",
        "          if use_cuda:\n",
        "              data = data.cuda()\n",
        "          # forward pass: compute predicted outputs by passing inputs to the model\n",
        "          output = model(data)\n",
        "          output = nn.functional.softmax(output)\n",
        "          output = np.squeeze(output).cpu().detach().float()\n",
        "\n",
        "          for idx, i in enumerate(output):\n",
        "            if int(target[idx]) == int(torch.argmax(i)):\n",
        "                correct += 1\n",
        "            total += 1\n",
        "\n",
        "          print(f'Accuracy: {round(correct / total, 3)}')\n",
        "\n"
      ],
      "execution_count": null,
      "outputs": []
    },
    {
      "cell_type": "markdown",
      "metadata": {
        "id": "hbv0XqqbpMLP"
      },
      "source": [
        "# New Section"
      ]
    },
    {
      "cell_type": "markdown",
      "metadata": {
        "id": "EYXcn2MDiM9q"
      },
      "source": [
        "Ovo što se dobije na kraju, 0.83 odnosno 83% je tačnost ovog modela, tj. u 83% slučaja će da pogodi rasu psa."
      ]
    },
    {
      "cell_type": "code",
      "metadata": {
        "colab": {
          "base_uri": "https://localhost:8080/"
        },
        "id": "dS2fQET1oeyd",
        "outputId": "79c02740-8ab4-40e9-99f8-6162b1d4e0e3"
      },
      "source": [
        "if use_cuda:\n",
        "    model_transfer.load_state_dict(torch.load('/content/drive/My Drive/Colab Notebooks/#6/model_transfer.pt'))\n",
        "else:\n",
        "    model_transfer.load_state_dict(torch.load('/content/drive/My Drive/Colab Notebooks/#6/model_transfer.pt'), map_location=lambda storage, loc: storage)\n",
        "\n",
        "test(loaders_transfer, model_transfer, submission_file, use_cuda)"
      ],
      "execution_count": null,
      "outputs": [
        {
          "output_type": "stream",
          "name": "stderr",
          "text": [
            "/usr/local/lib/python3.7/dist-packages/ipykernel_launcher.py:14: UserWarning: Implicit dimension choice for softmax has been deprecated. Change the call to include dim=X as an argument.\n",
            "  \n"
          ]
        },
        {
          "output_type": "stream",
          "name": "stdout",
          "text": [
            "Accuracy: 0.828\n",
            "Accuracy: 0.812\n",
            "Accuracy: 0.802\n",
            "Accuracy: 0.836\n",
            "Accuracy: 0.828\n",
            "Accuracy: 0.828\n",
            "Accuracy: 0.826\n",
            "Accuracy: 0.828\n",
            "Accuracy: 0.826\n",
            "Accuracy: 0.827\n",
            "Accuracy: 0.825\n",
            "Accuracy: 0.824\n",
            "Accuracy: 0.825\n",
            "Accuracy: 0.828\n",
            "Accuracy: 0.832\n",
            "Accuracy: 0.83\n"
          ]
        }
      ]
    },
    {
      "cell_type": "markdown",
      "metadata": {
        "id": "Df_XJ7rEkGjy"
      },
      "source": [
        "**Zaključak**\n",
        "\n",
        "Kao što sam već rekla, za realizaciju zadatka je korišćen SGD (Stochastic gradient descent) algoritam. \n",
        "\n",
        "Jedna od izrazitih prednosti korišćenja Stochastic Gradient Descent-a je ta što proračune obavlja brže od gradient descent-a i batch gradient descent-a. Takođe, na masovnim skupovima podataka, stochastic gradient descent može brže da konvergira jer češće vrši ažuriranja."
      ]
    },
    {
      "cell_type": "markdown",
      "metadata": {
        "id": "QXGQ2ipJkT0B"
      },
      "source": [
        "**Reference**\n",
        "1. https://sova.uns.ac.rs/pluginfile.php/33688/mod_resource/content/2/Otkrivanje_znanja_iz_podataka.pdf\n",
        "2. https://pytorch.org/docs/stable/index.html\n",
        "3. https://machinelearningmastery.com/transfer-learning-for-deep-learning/\n",
        "4. https://towardsdatascience.com/stochastic-gradient-descent-clearly-explained-53d239905d31"
      ]
    }
  ]
}